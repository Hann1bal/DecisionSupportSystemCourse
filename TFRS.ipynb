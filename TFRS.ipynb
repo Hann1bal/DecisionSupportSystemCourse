{
  "cells": [
    {
      "cell_type": "markdown",
      "metadata": {
        "id": "view-in-github",
        "colab_type": "text"
      },
      "source": [
        "<a href=\"https://colab.research.google.com/github/Hann1bal/DecisionSupportSystemCourse/blob/main/TFRS.ipynb\" target=\"_parent\"><img src=\"https://colab.research.google.com/assets/colab-badge.svg\" alt=\"Open In Colab\"/></a>"
      ]
    },
    {
      "cell_type": "code",
      "execution_count": null,
      "metadata": {
        "colab": {
          "base_uri": "https://localhost:8080/"
        },
        "id": "r5j9Z7ZIkivW",
        "outputId": "f8f71e9b-0f73-47d7-ce72-889c81d160c1"
      },
      "outputs": [
        {
          "name": "stdout",
          "output_type": "stream",
          "text": [
            "Looking in indexes: https://pypi.org/simple, https://us-python.pkg.dev/colab-wheels/public/simple/\n",
            "\u001b[31mERROR: Could not find a version that satisfies the requirement StringIO (from versions: none)\u001b[0m\n",
            "\u001b[31mERROR: No matching distribution found for StringIO\u001b[0m\n"
          ]
        }
      ],
      "source": [
        "#!pip install -q tensorflow-recommenders\n"
      ]
    },
    {
      "cell_type": "code",
      "execution_count": null,
      "metadata": {
        "id": "s7l4NtzJnfiN"
      },
      "outputs": [],
      "source": [
        "import os \n",
        "import tensorflow as tf\n",
        "import requests\n",
        "from zipfile import ZipFile\n",
        "from io import BytesIO\n",
        "url = \"https://files.grouplens.org/datasets/movielens/ml-20m.zip\"\n",
        "file = requests.get(url).content\n",
        "#zip = \n",
        "zip =  open(\"./20ml.zip\", \"wb\")\n",
        "zip.write(file)\n",
        "zip.close()\n",
        "\n",
        "zf = ZipFile(\"./20ml.zip\")\n",
        "zf.extractall(\"./movie/dataset/\")\n",
        "zf.close()"
      ]
    },
    {
      "cell_type": "code",
      "execution_count": null,
      "metadata": {
        "colab": {
          "base_uri": "https://localhost:8080/"
        },
        "id": "YTPsuPOzqh9N",
        "outputId": "53d984ea-14aa-4ab2-958f-5a16428988da"
      },
      "outputs": [
        {
          "name": "stdout",
          "output_type": "stream",
          "text": [
            "genome-scores.csv  links.csv   ratings.csv  tags.csv\n",
            "genome-tags.csv    movies.csv  README.txt\n"
          ]
        }
      ],
      "source": [
        "!ls ./movie/dataset/ml-20m\n"
      ]
    },
    {
      "cell_type": "code",
      "execution_count": null,
      "metadata": {
        "id": "mBCj3oXdsdOA"
      },
      "outputs": [],
      "source": [
        "import os\n",
        "import pprint\n",
        "import tempfile\n",
        "\n",
        "from typing import Dict, Text\n",
        "\n",
        "import numpy as np\n",
        "import pandas as pd\n",
        "import tensorflow as tf\n",
        "import tensorflow_recommenders as tfrs\n",
        "import tensorflow_datasets as tfds"
      ]
    },
    {
      "cell_type": "code",
      "execution_count": null,
      "metadata": {
        "colab": {
          "base_uri": "https://localhost:8080/"
        },
        "id": "Z2KKf4WyxZ3E",
        "outputId": "3d5dab9a-7d7e-4727-e213-4c2850bf3cb7"
      },
      "outputs": [
        {
          "output_type": "stream",
          "name": "stdout",
          "text": [
            "{'bucketized_user_age': 45.0,\n",
            " 'movie_genres': array([7]),\n",
            " 'movie_id': b'357',\n",
            " 'movie_title': b\"One Flew Over the Cuckoo's Nest (1975)\",\n",
            " 'raw_user_age': 46.0,\n",
            " 'timestamp': 879024327,\n",
            " 'user_gender': True,\n",
            " 'user_id': b'138',\n",
            " 'user_occupation_label': 4,\n",
            " 'user_occupation_text': b'doctor',\n",
            " 'user_rating': 4.0,\n",
            " 'user_zip_code': b'53211'}\n"
          ]
        }
      ],
      "source": [
        "import random\n",
        "# rating_dataset = tf.data.experimental.make_csv_dataset(\"./movie/dataset/ml-20m/ratings.csv\", \n",
        "#                                                 batch_size = 35,\n",
        "#                                                 num_epochs=1,\n",
        "#                                                 shuffle = True,\n",
        "#                                                 )\n",
        "# movie_dataset = tf.data.experimental.make_csv_dataset(\"./movie/dataset/ml-20m/movies.csv\", \n",
        "#                                                 batch_size = 35,\n",
        "#                                                 num_epochs=1,\n",
        "#                                                 shuffle = True,\n",
        "#                                                 )\n",
        "ratings = tfds.load(\"movielens/100k-ratings\", split=\"train\")\n",
        "movies = tfds.load(\"movielens/100k-movies\", split=\"train\")\n",
        "for x in ratings.take(1).as_numpy_iterator():\n",
        "  pprint.pprint(x)"
      ]
    },
    {
      "cell_type": "code",
      "execution_count": null,
      "metadata": {
        "id": "-Blzx2VNxPvc"
      },
      "outputs": [],
      "source": [
        "ratings = ratings.map(lambda x:{\n",
        "    \"movie_title\":x[\"movie_title\"],\n",
        "    \"user_id\":x[\"user_id\"]\n",
        "})\n",
        "movies = movies.map(lambda x: x[\"movie_title\"])"
      ]
    },
    {
      "cell_type": "code",
      "execution_count": null,
      "metadata": {
        "id": "-pj-sXkbwJyI"
      },
      "outputs": [],
      "source": [
        "# ratings = rating_dataset.map(lambda x:{\n",
        "#     \"movieId\":x[\"movieId\"],\n",
        "#     \"userId\":x[\"userId\"]\n",
        "# })\n",
        "# movies = movie_dataset.map(lambda x: x[\"movieId\"])"
      ]
    },
    {
      "cell_type": "code",
      "execution_count": null,
      "metadata": {
        "id": "-ASVQ5MgviXl"
      },
      "outputs": [],
      "source": [
        "tf.random.set_seed(55)\n",
        "shuffled = ratings.shuffle(100_000, seed = 55, reshuffle_each_iteration=False)\n",
        "train  = shuffled.take(80_000)\n",
        "test = shuffled.skip(80_000).take(20_000)"
      ]
    },
    {
      "cell_type": "code",
      "execution_count": null,
      "metadata": {
        "id": "tmTo5aOZ59mZ"
      },
      "outputs": [],
      "source": [
        "movie_titles = movies.batch(1_000)\n",
        "user_ids= rating.batch(1000000).map(lambda x: x[\"user_id\"])\n",
        "\n",
        "uniq_user_id = np.unique(np.concatenate(list(user_ids)))\n",
        "uniq_movie_id = np.unique(np.concatenate(list(movie_titles)))"
      ]
    },
    {
      "cell_type": "code",
      "source": [],
      "metadata": {
        "id": "nBkO-8i3eFNj"
      },
      "execution_count": null,
      "outputs": []
    },
    {
      "cell_type": "code",
      "execution_count": null,
      "metadata": {
        "id": "bNCbIL_A3ZGq"
      },
      "outputs": [],
      "source": [
        "\n",
        "user_model = tf.keras.Sequential([tf.keras.layers.StringLookup(vocabulary=uniq_user_id, mask_token=None),\n",
        "                                  tf.keras.layers.Embedding(len(uniq_user_id)+1, 32)])"
      ]
    },
    {
      "cell_type": "code",
      "execution_count": null,
      "metadata": {
        "id": "y1gNg7kG6x-t"
      },
      "outputs": [],
      "source": [
        "\n",
        "\n",
        "movie_model = tf.keras.Sequential([tf.keras.layers.StringLookup(vocabulary=uniq_movie_id, mask_token=None),\n",
        "                                  tf.keras.layers.Embedding(len(uniq_movie_id)+1, 32)])"
      ]
    },
    {
      "cell_type": "code",
      "execution_count": null,
      "metadata": {
        "id": "yZbXKlEB7E74"
      },
      "outputs": [],
      "source": [
        "metrics = tfrs.metrics.FactorizedTopK(candidates= movies.batch(256).map(movie_model))"
      ]
    },
    {
      "cell_type": "code",
      "execution_count": null,
      "metadata": {
        "id": "UqmhTxtU9_m9"
      },
      "outputs": [],
      "source": [
        "task = tfrs.tasks.Retrieval(metrics=metrics)"
      ]
    },
    {
      "cell_type": "code",
      "execution_count": null,
      "metadata": {
        "id": "uAeioocI-XdX"
      },
      "outputs": [],
      "source": [
        "class MovieMdoel(tfrs.Model):\n",
        "  def __init__(self, user_model, movie_model):\n",
        "    super().__init__()\n",
        "    self.movie_model = movie_model\n",
        "    self.user_model = user_model\n",
        "    self.task = task\n",
        "  def compute_loss( self, features, training = False):\n",
        "    user_embeddings = self.user_model(features[\"user_id\"])\n",
        "    positive_movie_embeddings = self.movie_model(features[\"movie_title\"])\n",
        "    return self.task(user_embeddings, positive_movie_embeddings)\n",
        "    "
      ]
    },
    {
      "cell_type": "code",
      "execution_count": null,
      "metadata": {
        "id": "FkIJaf3C-hya"
      },
      "outputs": [],
      "source": [
        "model = MovieMdoel(user_model, movie_model)\n",
        "model.compile(optimizer = tf.keras.optimizers.Adagrad(learning_rate = 0.1))"
      ]
    },
    {
      "cell_type": "code",
      "execution_count": null,
      "metadata": {
        "id": "g5que4Pt__rB"
      },
      "outputs": [],
      "source": [
        "cache_data_train = train.shuffle(100000).batch(8092).cache()\n",
        "cache_data_test = test.batch(4096).cache()"
      ]
    },
    {
      "cell_type": "code",
      "execution_count": null,
      "metadata": {
        "colab": {
          "base_uri": "https://localhost:8080/"
        },
        "id": "kCZUK2A8AXJS",
        "outputId": "7314de63-d0fe-4d16-8aa3-e88889f5d56b"
      },
      "outputs": [
        {
          "output_type": "stream",
          "name": "stdout",
          "text": [
            "Epoch 1/15\n",
            "10/10 [==============================] - 27s 2s/step - factorized_top_k/top_1_categorical_accuracy: 0.0013 - factorized_top_k/top_5_categorical_accuracy: 0.0102 - factorized_top_k/top_10_categorical_accuracy: 0.0204 - factorized_top_k/top_50_categorical_accuracy: 0.1009 - factorized_top_k/top_100_categorical_accuracy: 0.1759 - loss: 70610.9808 - regularization_loss: 0.0000e+00 - total_loss: 70610.9808\n",
            "Epoch 2/15\n",
            "10/10 [==============================] - 20s 2s/step - factorized_top_k/top_1_categorical_accuracy: 0.0026 - factorized_top_k/top_5_categorical_accuracy: 0.0180 - factorized_top_k/top_10_categorical_accuracy: 0.0374 - factorized_top_k/top_50_categorical_accuracy: 0.1644 - factorized_top_k/top_100_categorical_accuracy: 0.2886 - loss: 68286.5220 - regularization_loss: 0.0000e+00 - total_loss: 68286.5220\n",
            "Epoch 3/15\n",
            "10/10 [==============================] - 19s 2s/step - factorized_top_k/top_1_categorical_accuracy: 0.0035 - factorized_top_k/top_5_categorical_accuracy: 0.0230 - factorized_top_k/top_10_categorical_accuracy: 0.0457 - factorized_top_k/top_50_categorical_accuracy: 0.1880 - factorized_top_k/top_100_categorical_accuracy: 0.3162 - loss: 67056.5384 - regularization_loss: 0.0000e+00 - total_loss: 67056.5384\n",
            "Epoch 4/15\n",
            "10/10 [==============================] - 19s 2s/step - factorized_top_k/top_1_categorical_accuracy: 0.0038 - factorized_top_k/top_5_categorical_accuracy: 0.0262 - factorized_top_k/top_10_categorical_accuracy: 0.0512 - factorized_top_k/top_50_categorical_accuracy: 0.2057 - factorized_top_k/top_100_categorical_accuracy: 0.3376 - loss: 66324.8161 - regularization_loss: 0.0000e+00 - total_loss: 66324.8161\n",
            "Epoch 5/15\n",
            "10/10 [==============================] - 21s 2s/step - factorized_top_k/top_1_categorical_accuracy: 0.0044 - factorized_top_k/top_5_categorical_accuracy: 0.0286 - factorized_top_k/top_10_categorical_accuracy: 0.0563 - factorized_top_k/top_50_categorical_accuracy: 0.2179 - factorized_top_k/top_100_categorical_accuracy: 0.3525 - loss: 65804.0682 - regularization_loss: 0.0000e+00 - total_loss: 65804.0682\n",
            "Epoch 6/15\n",
            "10/10 [==============================] - 20s 2s/step - factorized_top_k/top_1_categorical_accuracy: 0.0047 - factorized_top_k/top_5_categorical_accuracy: 0.0306 - factorized_top_k/top_10_categorical_accuracy: 0.0602 - factorized_top_k/top_50_categorical_accuracy: 0.2277 - factorized_top_k/top_100_categorical_accuracy: 0.3648 - loss: 65404.9964 - regularization_loss: 0.0000e+00 - total_loss: 65404.9964\n",
            "Epoch 7/15\n",
            "10/10 [==============================] - 18s 2s/step - factorized_top_k/top_1_categorical_accuracy: 0.0052 - factorized_top_k/top_5_categorical_accuracy: 0.0320 - factorized_top_k/top_10_categorical_accuracy: 0.0627 - factorized_top_k/top_50_categorical_accuracy: 0.2356 - factorized_top_k/top_100_categorical_accuracy: 0.3733 - loss: 65087.5824 - regularization_loss: 0.0000e+00 - total_loss: 65087.5824\n",
            "Epoch 8/15\n",
            "10/10 [==============================] - 18s 2s/step - factorized_top_k/top_1_categorical_accuracy: 0.0049 - factorized_top_k/top_5_categorical_accuracy: 0.0327 - factorized_top_k/top_10_categorical_accuracy: 0.0654 - factorized_top_k/top_50_categorical_accuracy: 0.2411 - factorized_top_k/top_100_categorical_accuracy: 0.3797 - loss: 64829.4936 - regularization_loss: 0.0000e+00 - total_loss: 64829.4936\n",
            "Epoch 9/15\n",
            "10/10 [==============================] - 19s 2s/step - factorized_top_k/top_1_categorical_accuracy: 0.0053 - factorized_top_k/top_5_categorical_accuracy: 0.0339 - factorized_top_k/top_10_categorical_accuracy: 0.0670 - factorized_top_k/top_50_categorical_accuracy: 0.2458 - factorized_top_k/top_100_categorical_accuracy: 0.3845 - loss: 64616.2173 - regularization_loss: 0.0000e+00 - total_loss: 64616.2173\n",
            "Epoch 10/15\n",
            "10/10 [==============================] - 18s 2s/step - factorized_top_k/top_1_categorical_accuracy: 0.0055 - factorized_top_k/top_5_categorical_accuracy: 0.0353 - factorized_top_k/top_10_categorical_accuracy: 0.0685 - factorized_top_k/top_50_categorical_accuracy: 0.2498 - factorized_top_k/top_100_categorical_accuracy: 0.3895 - loss: 64437.4815 - regularization_loss: 0.0000e+00 - total_loss: 64437.4815\n",
            "Epoch 11/15\n",
            "10/10 [==============================] - 18s 2s/step - factorized_top_k/top_1_categorical_accuracy: 0.0052 - factorized_top_k/top_5_categorical_accuracy: 0.0361 - factorized_top_k/top_10_categorical_accuracy: 0.0698 - factorized_top_k/top_50_categorical_accuracy: 0.2528 - factorized_top_k/top_100_categorical_accuracy: 0.3935 - loss: 64285.8107 - regularization_loss: 0.0000e+00 - total_loss: 64285.8107\n",
            "Epoch 12/15\n",
            "10/10 [==============================] - 19s 2s/step - factorized_top_k/top_1_categorical_accuracy: 0.0057 - factorized_top_k/top_5_categorical_accuracy: 0.0368 - factorized_top_k/top_10_categorical_accuracy: 0.0709 - factorized_top_k/top_50_categorical_accuracy: 0.2554 - factorized_top_k/top_100_categorical_accuracy: 0.3974 - loss: 64155.6637 - regularization_loss: 0.0000e+00 - total_loss: 64155.6637\n",
            "Epoch 13/15\n",
            "10/10 [==============================] - 19s 2s/step - factorized_top_k/top_1_categorical_accuracy: 0.0057 - factorized_top_k/top_5_categorical_accuracy: 0.0375 - factorized_top_k/top_10_categorical_accuracy: 0.0714 - factorized_top_k/top_50_categorical_accuracy: 0.2573 - factorized_top_k/top_100_categorical_accuracy: 0.4004 - loss: 64042.8469 - regularization_loss: 0.0000e+00 - total_loss: 64042.8469\n",
            "Epoch 14/15\n",
            "10/10 [==============================] - 21s 2s/step - factorized_top_k/top_1_categorical_accuracy: 0.0056 - factorized_top_k/top_5_categorical_accuracy: 0.0373 - factorized_top_k/top_10_categorical_accuracy: 0.0716 - factorized_top_k/top_50_categorical_accuracy: 0.2593 - factorized_top_k/top_100_categorical_accuracy: 0.4032 - loss: 63944.1371 - regularization_loss: 0.0000e+00 - total_loss: 63944.1371\n",
            "Epoch 15/15\n",
            "10/10 [==============================] - 19s 2s/step - factorized_top_k/top_1_categorical_accuracy: 0.0059 - factorized_top_k/top_5_categorical_accuracy: 0.0377 - factorized_top_k/top_10_categorical_accuracy: 0.0720 - factorized_top_k/top_50_categorical_accuracy: 0.2606 - factorized_top_k/top_100_categorical_accuracy: 0.4062 - loss: 63856.9688 - regularization_loss: 0.0000e+00 - total_loss: 63856.9688\n"
          ]
        },
        {
          "output_type": "execute_result",
          "data": {
            "text/plain": [
              "<keras.callbacks.History at 0x7f5eaf362c10>"
            ]
          },
          "metadata": {},
          "execution_count": 164
        }
      ],
      "source": [
        "model.fit(cache_data_train, epochs=15)"
      ]
    },
    {
      "cell_type": "code",
      "execution_count": null,
      "metadata": {
        "colab": {
          "base_uri": "https://localhost:8080/"
        },
        "id": "YB76CSzeCR6Z",
        "outputId": "7ef6a63a-672b-4dba-db41-0abf991cd5cc"
      },
      "outputs": [
        {
          "output_type": "stream",
          "name": "stdout",
          "text": [
            "5/5 [==============================] - 7s 716ms/step - factorized_top_k/top_1_categorical_accuracy: 2.0000e-04 - factorized_top_k/top_5_categorical_accuracy: 0.0021 - factorized_top_k/top_10_categorical_accuracy: 0.0066 - factorized_top_k/top_50_categorical_accuracy: 0.0738 - factorized_top_k/top_100_categorical_accuracy: 0.1679 - loss: 32050.2363 - regularization_loss: 0.0000e+00 - total_loss: 32050.2363\n"
          ]
        },
        {
          "output_type": "execute_result",
          "data": {
            "text/plain": [
              "{'factorized_top_k/top_1_categorical_accuracy': 0.00019999999494757503,\n",
              " 'factorized_top_k/top_5_categorical_accuracy': 0.002099999925121665,\n",
              " 'factorized_top_k/top_10_categorical_accuracy': 0.006649999879300594,\n",
              " 'factorized_top_k/top_50_categorical_accuracy': 0.07384999841451645,\n",
              " 'factorized_top_k/top_100_categorical_accuracy': 0.1678999960422516,\n",
              " 'loss': 29129.140625,\n",
              " 'regularization_loss': 0,\n",
              " 'total_loss': 29129.140625}"
            ]
          },
          "metadata": {},
          "execution_count": 165
        }
      ],
      "source": [
        "model.evaluate(cache_data_test, return_dict=True)"
      ]
    },
    {
      "cell_type": "code",
      "execution_count": null,
      "metadata": {
        "colab": {
          "base_uri": "https://localhost:8080/"
        },
        "id": "yjNjuekaDrsM",
        "outputId": "83f6a4df-2f76-4e56-b622-9701eef9f7a9"
      },
      "outputs": [
        {
          "output_type": "stream",
          "name": "stdout",
          "text": [
            "[[6.609688  6.16212   6.08993   6.0479083 6.0459013 6.032731  5.927784\n",
            "  5.9244375 5.923994  5.8971434]]\n",
            "[[b'Harriet the Spy (1996)' b'First Wives Club, The (1996)'\n",
            "  b'Birdcage, The (1996)' b'Zeus and Roxanne (1997)'\n",
            "  b'In Love and War (1996)' b'Very Brady Sequel, A (1996)'\n",
            "  b'Out to Sea (1997)' b'One Fine Day (1996)' b'Evening Star, The (1996)'\n",
            "  b'Truth About Cats & Dogs, The (1996)']]\n"
          ]
        }
      ],
      "source": [
        "index = tfrs.layers.factorized_top_k.BruteForce(model.user_model)\n",
        "index.index_from_dataset(\n",
        "    tf.data.Dataset.zip((movies.batch(100), movies.batch(100).map(model.movie_model)))\n",
        ")\n",
        "for i in  index(tf.constant([\"93\"])):\n",
        "  print(f\"{i}\")"
      ]
    },
    {
      "cell_type": "code",
      "execution_count": null,
      "metadata": {
        "colab": {
          "base_uri": "https://localhost:8080/"
        },
        "id": "VmvXbg6fDCYj",
        "outputId": "7b9e1f98-35ae-4809-c5cb-4736b83de97d"
      },
      "outputs": [
        {
          "output_type": "stream",
          "name": "stderr",
          "text": [
            "WARNING:absl:Found untraced functions such as query_with_exclusions while saving (showing 1 of 1). These functions will not be directly callable after loading.\n"
          ]
        }
      ],
      "source": [
        "with tempfile.TemporaryDirectory() as tmp:\n",
        "  path = os.path.join(tmp, \"model\")\n",
        "  tf.saved_model.save(index, path)\n",
        "  loaded_model = tf.saved_model.load(path)\n",
        "  scores, titels = loaded_model([\"90\"])"
      ]
    }
  ],
  "metadata": {
    "colab": {
      "provenance": [],
      "authorship_tag": "ABX9TyMnHNIDCd8xDBjUp1CURR5v",
      "include_colab_link": true
    },
    "kernelspec": {
      "display_name": "Python 3",
      "name": "python3"
    },
    "language_info": {
      "name": "python"
    }
  },
  "nbformat": 4,
  "nbformat_minor": 0
}